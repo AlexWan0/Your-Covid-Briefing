{
 "cells": [
  {
   "cell_type": "code",
   "execution_count": 1,
   "metadata": {},
   "outputs": [],
   "source": [
    "from selenium import webdriver\n",
    "from selenium.common.exceptions import NoSuchElementException\n",
    "\n",
    "class GoogleNewsScraper():\n",
    "    def __init__(self, query, start_url=None):\n",
    "        self.query = query\n",
    "        self.BASE_URL = 'https://www.google.com/search?q=%s&tbm=nws'\n",
    "        if start_url is None:\n",
    "            self.url = self.BASE_URL % self.query\n",
    "        else:\n",
    "            self.url = start_url\n",
    "        \n",
    "        self.raw_links = []\n",
    "        print('start url: %s' % self.url)\n",
    "\n",
    "    def start_browser(self):\n",
    "        self.browser = webdriver.Firefox()\n",
    "        self.browser.get(self.url)\n",
    "        print('current browser location: %s' % self.browser.current_url)\n",
    "\n",
    "    def scrape_links(self):\n",
    "        link_elements = self.browser.find_elements_by_tag_name('a')\n",
    "        links_raw = list(map(lambda ele : ele.get_attribute('href'), link_elements))\n",
    "        links_raw = list(filter(lambda l : l is not None, links_raw))\n",
    "        return links_raw\n",
    "    \n",
    "    def go_next(self):\n",
    "        try:\n",
    "            self.browser.find_element_by_id('pnnext').click()\n",
    "        except NoSuchElementException:\n",
    "            return False\n",
    "        return True\n",
    "    \n",
    "    def scrape_loop(self, verbose=True, skip_on_error=True):\n",
    "        try:\n",
    "            self.last_url = self.browser.current_url\n",
    "            if verbose:\n",
    "                print('Scraping from %s...' % self.last_url)\n",
    "\n",
    "            new_links = self.scrape_links()\n",
    "            self.raw_links.extend(new_links)\n",
    "\n",
    "            if verbose:\n",
    "                print('Found %d new links' % len(new_links))\n",
    "                print('Total links: %d' % len(self.raw_links))\n",
    "        except Exception as e:\n",
    "            if skip_on_error:\n",
    "                print('Exception: ', e)\n",
    "            else:\n",
    "                raise e\n",
    "        \n",
    "        return self.go_next()\n",
    "\n",
    "    def stop_browser(self):\n",
    "        self.browser.quit()"
   ]
  },
  {
   "cell_type": "code",
   "execution_count": 67,
   "metadata": {},
   "outputs": [],
   "source": [
    "from urllib.parse import quote\n",
    "\n",
    "query = 'coronavirus world'\n",
    "query = quote(query)"
   ]
  },
  {
   "cell_type": "code",
   "execution_count": 68,
   "metadata": {
    "scrolled": false
   },
   "outputs": [
    {
     "name": "stdout",
     "output_type": "stream",
     "text": [
      "start url: https://www.google.com/search?q=coronavirus%20world&tbm=nws\n"
     ]
    }
   ],
   "source": [
    "scraper = GoogleNewsScraper(query)"
   ]
  },
  {
   "cell_type": "code",
   "execution_count": 69,
   "metadata": {
    "scrolled": false
   },
   "outputs": [
    {
     "name": "stdout",
     "output_type": "stream",
     "text": [
      "current browser location: https://www.google.com/search?q=coronavirus%20world&tbm=nws\n"
     ]
    }
   ],
   "source": [
    "scraper.start_browser()"
   ]
  },
  {
   "cell_type": "code",
   "execution_count": 70,
   "metadata": {
    "scrolled": true
   },
   "outputs": [
    {
     "name": "stdout",
     "output_type": "stream",
     "text": [
      "saving checkpoint at scraped/coronavirus%20world/checkpoint_60.csv...\n",
      "saving checkpoint at scraped/coronavirus%20world/checkpoint_678.csv...\n",
      "saving checkpoint at scraped/coronavirus%20world/checkpoint_1308.csv...\n",
      "saving checkpoint at scraped/coronavirus%20world/checkpoint_1945.csv...\n",
      "finished with 2170 links, saving final csv...\n",
      "stopping browser...\n"
     ]
    },
    {
     "name": "stderr",
     "output_type": "stream",
     "text": [
      "ERROR: The process \"geckodriver.exe\" not found.\n"
     ]
    }
   ],
   "source": [
    "import csv\n",
    "import os\n",
    "\n",
    "def save_csv(urls, file_path):\n",
    "    with open(file_path, 'w') as file_out:\n",
    "        writer = csv.writer(file_out, quoting=csv.QUOTE_ALL)\n",
    "        writer.writerow(['url'])\n",
    "        for link in urls:\n",
    "            writer.writerow([link])\n",
    "\n",
    "checkpoint_folder = 'scraped/' + query\n",
    "\n",
    "os.mkdir(checkpoint_folder)\n",
    "\n",
    "counter = 0\n",
    "while scraper.scrape_loop(verbose=False):\n",
    "    if counter % 10 == 0:\n",
    "        checkpoint_path = checkpoint_folder + '/checkpoint_%d.csv' % len(scraper.raw_links)\n",
    "        print('saving checkpoint at %s...' % checkpoint_path)\n",
    "        save_csv(scraper.raw_links, checkpoint_path)\n",
    "    counter += 1\n",
    "\n",
    "\n",
    "print('finished with %d links, saving final csv...' % len(scraper.raw_links))\n",
    "save_csv(scraper.raw_links, checkpoint_folder + '/FINAL.csv')\n",
    "\n",
    "print('stopping browser...')\n",
    "scraper.stop_browser()\n",
    "!taskkill /f /im geckodriver.exe"
   ]
  },
  {
   "cell_type": "code",
   "execution_count": 49,
   "metadata": {
    "scrolled": true
   },
   "outputs": [],
   "source": [
    "scraper.stop_browser()"
   ]
  },
  {
   "cell_type": "code",
   "execution_count": 50,
   "metadata": {
    "scrolled": true
   },
   "outputs": [
    {
     "name": "stderr",
     "output_type": "stream",
     "text": [
      "ERROR: The process \"geckodriver.exe\" not found.\n"
     ]
    }
   ],
   "source": [
    "!taskkill /f /im geckodriver.exe"
   ]
  }
 ],
 "metadata": {
  "kernelspec": {
   "display_name": "Python 3",
   "language": "python",
   "name": "python3"
  },
  "language_info": {
   "codemirror_mode": {
    "name": "ipython",
    "version": 3
   },
   "file_extension": ".py",
   "mimetype": "text/x-python",
   "name": "python",
   "nbconvert_exporter": "python",
   "pygments_lexer": "ipython3",
   "version": "3.7.7"
  }
 },
 "nbformat": 4,
 "nbformat_minor": 2
}
