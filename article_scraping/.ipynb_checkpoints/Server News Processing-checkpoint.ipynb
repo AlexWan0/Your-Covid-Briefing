{
 "cells": [
  {
   "cell_type": "code",
   "execution_count": 112,
   "metadata": {},
   "outputs": [],
   "source": [
    "import requests\n",
    "url = ('http://newsapi.org/v2/everything?q=coronavirus&pageSize=100&page=1&apiKey=')\n",
    "response = requests.get(url)\n",
    "res = response.json()"
   ]
  },
  {
   "cell_type": "code",
   "execution_count": 115,
   "metadata": {},
   "outputs": [
    {
     "data": {
      "text/plain": [
       "100"
      ]
     },
     "execution_count": 115,
     "metadata": {},
     "output_type": "execute_result"
    }
   ],
   "source": [
    "len(res['articles'])"
   ]
  },
  {
   "cell_type": "code",
   "execution_count": 75,
   "metadata": {},
   "outputs": [
    {
     "name": "stderr",
     "output_type": "stream",
     "text": [
      "[nltk_data] Downloading package punkt to\n",
      "[nltk_data]     C:\\Users\\Alex\\AppData\\Roaming\\nltk_data...\n",
      "[nltk_data]   Unzipping tokenizers\\punkt.zip.\n"
     ]
    },
    {
     "data": {
      "text/plain": [
       "True"
      ]
     },
     "execution_count": 75,
     "metadata": {},
     "output_type": "execute_result"
    }
   ],
   "source": [
    "import nltk\n",
    "nltk.download('punkt')"
   ]
  },
  {
   "cell_type": "code",
   "execution_count": 13,
   "metadata": {},
   "outputs": [],
   "source": [
    "from newsapi import NewsApiClient\n",
    "newsapi = NewsApiClient(api_key='')"
   ]
  },
  {
   "cell_type": "code",
   "execution_count": 21,
   "metadata": {},
   "outputs": [],
   "source": [
    "all_articles = newsapi.get_everything(q='coronavirus',\n",
    "                                      from_param=datetime.today().strftime('%Y-%m-%d'),\n",
    "                                      to=datetime.today().strftime('%Y-%m-%d'),\n",
    "                                      language='en',\n",
    "                                      sort_by='relevancy')"
   ]
  },
  {
   "cell_type": "code",
   "execution_count": 48,
   "metadata": {},
   "outputs": [
    {
     "data": {
      "text/plain": [
       "{'source': {'id': 'cnn', 'name': 'CNN'},\n",
       " 'author': 'Maggie Fox, CNN',\n",
       " 'title': 'Mutation makes coronavirus more infectious, study suggests',\n",
       " 'description': 'Researchers in Florida say they believe they have shown that the new coronavirus has mutated in a way that makes it more easily infect human cells.',\n",
       " 'url': 'https://www.cnn.com/2020/06/12/health/coronavirus-mutations-scripps-gene/index.html',\n",
       " 'urlToImage': 'https://cdn.cnn.com/cnnnext/dam/assets/200213162341-02-cdc-novel-coronavirus-illustration-labeled-super-tease.jpg',\n",
       " 'publishedAt': '2020-06-13T01:14:14Z',\n",
       " 'content': None}"
      ]
     },
     "execution_count": 48,
     "metadata": {},
     "output_type": "execute_result"
    }
   ],
   "source": [
    "all_articles['articles'][0]"
   ]
  },
  {
   "cell_type": "code",
   "execution_count": 49,
   "metadata": {},
   "outputs": [],
   "source": [
    "from goose3 import Goose\n",
    "g = Goose({'enable_image_fetching':False, 'browser_user_agent': 'Mozilla'})\n",
    "def extract_text(article_url):\n",
    "    article = g.extract(url=article_url)\n",
    "    return article\n",
    "\n",
    "num_skipped = 0\n",
    "text_objects = []\n",
    "\n",
    "for i, a in enumerate(all_articles['articles']):\n",
    "    try:\n",
    "        article_goose = extract_text(a['url'])\n",
    "        data = article_goose.infos\n",
    "        data['newsapi'] = a\n",
    "        text_objects.append(data)\n",
    "    except Exception as e:\n",
    "        print(e)\n",
    "        num_skipped += 1"
   ]
  },
  {
   "cell_type": "code",
   "execution_count": 66,
   "metadata": {},
   "outputs": [],
   "source": [
    "from dateutil import parser\n",
    "\n",
    "server_objects = []\n",
    "\n",
    "for to in text_objects:\n",
    "    server_to = {}\n",
    "    server_to['title'] = to['newsapi']['title']\n",
    "    server_to['publisher'] = to['newsapi']['source']['name']\n",
    "    server_to['date'] = parser.parse(to['newsapi']['publishedAt']).strftime('%I:%M %p %Y-%m-%d')\n",
    "    server_to['url'] = to['newsapi']['url']\n",
    "    server_to['article_text'] = to['cleaned_text']\n",
    "    if len(server_to['article_text']) > 0 and len(server_to['title']) > 0:\n",
    "        server_objects.append(server_to)"
   ]
  },
  {
   "cell_type": "code",
   "execution_count": 80,
   "metadata": {},
   "outputs": [],
   "source": [
    "from sumy.parsers.plaintext import PlaintextParser\n",
    "from sumy.nlp.tokenizers import Tokenizer\n",
    "from sumy.summarizers.lsa import LsaSummarizer as Summarizer\n",
    "from sumy.nlp.stemmers import Stemmer\n",
    "from sumy.utils import get_stop_words\n",
    "\n",
    "stemmer = Stemmer('english')\n",
    "summarizer = Summarizer(stemmer)\n",
    "summarizer.stop_words = get_stop_words('english')\n",
    "\n",
    "for i, s_to in enumerate(server_objects):\n",
    "    article_text = s_to['article_text']\n",
    "\n",
    "    parser = PlaintextParser.from_string(article_text, Tokenizer('english'))\n",
    "    \n",
    "    summarized = ''\n",
    "    \n",
    "    for sentence in summarizer(parser.document, 10):\n",
    "        summarized += str(sentence) + ' '\n",
    "    \n",
    "    server_objects[i]['summary'] = summarized"
   ]
  },
  {
   "cell_type": "code",
   "execution_count": 83,
   "metadata": {},
   "outputs": [
    {
     "data": {
      "text/plain": [
       "'A forecast published by the Centers for Disease Control and Prevention on Friday projects the death toll could increase to 130,000 by July 4. Dr. Anthony Fauci, director of the National Institute of Allergy and Infectious Diseases, said a recent increase in coronavirus cases in a number of states is not necessarily a \"second spike.\" \"However, when you start to see increases in hospitalization, that\\'s a surefire situation that you\\'ve got to pay close attention to,\" Fauci told CNN on Friday. \"I think the science is on our side, but that doesn\\'t say anything about the speed, the safety, and the durability and all of the other criteria that have to come into play before we have something that we can count on to give us that population immunity,\" Gerberding said. As of Saturday morning, at least 13 states were showing an upward trend in average daily cases -- an increase of at least 10% -- over the previous seven days, according to an analysis of Johns Hopkins University data. The number of new tests reported per day in the country has generally tripled since mid-April, according to data collected by the COVID Tracking Project. Kate Brown put a seven-day pause on moving forward with reopening in light of a rise in cases that followed loosening of restrictions. And in Baltimore, after an 8% increase in cases since June 5, Mayor Bernard C. Young announced Friday that the city would not be moving into phase 2 of reopening with the rest of the state. \"Let me be crystal clear with everyone: I, more than almost anyone, would love to see that Baltimore City is open and safe, but that simply is not what the data is telling us at this time,\" the mayor said. On Monday, the World Health Organization sparked confusion when a top official said during a media briefing that \"it still seems to be rare that an asymptomatic person actually transmits onward to a secondary individual.\" '"
      ]
     },
     "execution_count": 83,
     "metadata": {},
     "output_type": "execute_result"
    }
   ],
   "source": [
    "server_objects[i]['summary']"
   ]
  },
  {
   "cell_type": "code",
   "execution_count": 87,
   "metadata": {},
   "outputs": [],
   "source": [
    "import json\n",
    "with open('data.json', 'w') as data_out:\n",
    "    json.dump(server_objects, data_out)"
   ]
  },
  {
   "cell_type": "code",
   "execution_count": 90,
   "metadata": {},
   "outputs": [
    {
     "data": {
      "text/plain": [
       "1592102161.2486951"
      ]
     },
     "execution_count": 90,
     "metadata": {},
     "output_type": "execute_result"
    }
   ],
   "source": [
    "import time\n",
    "time.time()"
   ]
  },
  {
   "cell_type": "code",
   "execution_count": 91,
   "metadata": {},
   "outputs": [
    {
     "name": "stdout",
     "output_type": "stream",
     "text": [
      "0.00199127197265625\n"
     ]
    }
   ],
   "source": [
    "t1 = time.time()\n",
    "with open('data.json', 'r') as data_in:\n",
    "    server_objects = json.load(data_in)\n",
    "print(time.time() - t1)"
   ]
  }
 ],
 "metadata": {
  "kernelspec": {
   "display_name": "Python 3",
   "language": "python",
   "name": "python3"
  },
  "language_info": {
   "codemirror_mode": {
    "name": "ipython",
    "version": 3
   },
   "file_extension": ".py",
   "mimetype": "text/x-python",
   "name": "python",
   "nbconvert_exporter": "python",
   "pygments_lexer": "ipython3",
   "version": "3.7.4"
  }
 },
 "nbformat": 4,
 "nbformat_minor": 4
}
